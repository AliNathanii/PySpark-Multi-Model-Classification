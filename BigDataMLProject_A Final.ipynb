{
  "cells": [
    {
      "cell_type": "code",
      "execution_count": 6,
      "metadata": {
        "colab": {
          "base_uri": "https://localhost:8080/"
        },
        "id": "J-utTskAysaQ",
        "outputId": "d88ccf33-1523-4020-bb0a-ab82f814dca4"
      },
      "outputs": [
        {
          "output_type": "stream",
          "name": "stdout",
          "text": [
            "Requirement already satisfied: pyspark in /usr/local/lib/python3.10/dist-packages (3.5.1)\n",
            "Requirement already satisfied: py4j==0.10.9.7 in /usr/local/lib/python3.10/dist-packages (from pyspark) (0.10.9.7)\n",
            "openjdk-8-jdk-headless is already the newest version (8u402-ga-2ubuntu1~22.04).\n",
            "0 upgraded, 0 newly installed, 0 to remove and 45 not upgraded.\n"
          ]
        }
      ],
      "source": [
        "!pip install pyspark\n",
        "!pip install -U -q PyDrive\n",
        "!apt install openjdk-8-jdk-headless -qq\n",
        "import os\n",
        "os.environ[\"JAVA_HOME\"] = \"/usr/lib/jvm/java-8-openjdk-amd64\""
      ]
    },
    {
      "cell_type": "code",
      "execution_count": null,
      "metadata": {
        "id": "4KHqE6SkyvT2"
      },
      "outputs": [],
      "source": [
        "from pydrive.auth import GoogleAuth\n",
        "from pydrive.drive import GoogleDrive\n",
        "from google.colab import auth\n",
        "from oauth2client.client import GoogleCredentials\n",
        "\n",
        "# Authenticate and create the PyDrive client\n",
        "auth.authenticate_user()\n",
        "gauth = GoogleAuth()\n",
        "gauth.credentials = GoogleCredentials.get_application_default()\n",
        "drive = GoogleDrive(gauth)"
      ]
    },
    {
      "cell_type": "code",
      "execution_count": 7,
      "metadata": {
        "id": "6wMi-PeOyxRB"
      },
      "outputs": [],
      "source": [
        "import pandas as pd\n",
        "import numpy as np\n",
        "import matplotlib.pyplot as plt\n",
        "%matplotlib inline\n",
        "\n",
        "import pyspark\n",
        "from pyspark.sql import *\n",
        "from pyspark.sql.types import *\n",
        "from pyspark.sql.functions import *\n",
        "from pyspark import SparkContext, SparkConf"
      ]
    },
    {
      "cell_type": "code",
      "execution_count": 8,
      "metadata": {
        "id": "_XWEBZ5Zy0r0"
      },
      "outputs": [],
      "source": [
        "# create the session\n",
        "conf = SparkConf().set(\"spark.ui.port\", \"4050\")\n",
        "\n",
        "# create the context\n",
        "sc = pyspark.SparkContext(conf=conf)\n",
        "spark = SparkSession.builder.getOrCreate()"
      ]
    },
    {
      "cell_type": "code",
      "execution_count": 9,
      "metadata": {
        "id": "NdlL4QbMy1Yi",
        "colab": {
          "base_uri": "https://localhost:8080/",
          "height": 196
        },
        "outputId": "ec0aedd8-b501-480c-aaab-02a202cae6b1"
      },
      "outputs": [
        {
          "output_type": "execute_result",
          "data": {
            "text/plain": [
              "<SparkContext master=local[*] appName=pyspark-shell>"
            ],
            "text/html": [
              "\n",
              "        <div>\n",
              "            <p><b>SparkContext</b></p>\n",
              "\n",
              "            <p><a href=\"http://73c0c184d6de:4050\">Spark UI</a></p>\n",
              "\n",
              "            <dl>\n",
              "              <dt>Version</dt>\n",
              "                <dd><code>v3.5.1</code></dd>\n",
              "              <dt>Master</dt>\n",
              "                <dd><code>local[*]</code></dd>\n",
              "              <dt>AppName</dt>\n",
              "                <dd><code>pyspark-shell</code></dd>\n",
              "            </dl>\n",
              "        </div>\n",
              "        "
            ]
          },
          "metadata": {},
          "execution_count": 9
        }
      ],
      "source": [
        "sc"
      ]
    },
    {
      "cell_type": "code",
      "execution_count": 12,
      "metadata": {
        "id": "vjGPWjYty3JH",
        "colab": {
          "base_uri": "https://localhost:8080/"
        },
        "outputId": "a0d96544-db36-4702-eebf-eae07bc335c5"
      },
      "outputs": [
        {
          "output_type": "stream",
          "name": "stdout",
          "text": [
            "hcvdat0.csv  sample_data\n"
          ]
        }
      ],
      "source": [
        "!ls /content\n",
        "# to see what are the contents of our current location."
      ]
    },
    {
      "cell_type": "code",
      "execution_count": 13,
      "metadata": {
        "id": "B0VKVGyVy4lU"
      },
      "outputs": [],
      "source": [
        "# Load our dataset\n",
        "df = spark.read.csv(\"hcvdat0.csv\", header=True, inferSchema=True)"
      ]
    },
    {
      "cell_type": "code",
      "execution_count": 14,
      "metadata": {
        "id": "ohd2-TjWy7iu",
        "colab": {
          "base_uri": "https://localhost:8080/"
        },
        "outputId": "4b553fd5-5cb1-464d-d410-10b949218452"
      },
      "outputs": [
        {
          "output_type": "stream",
          "name": "stdout",
          "text": [
            "+---+-------------+---+---+----+----+----+----+----+-----+----+-----+----+----+\n",
            "|_c0|     Category|Age|Sex| ALB| ALP| ALT| AST| BIL|  CHE|CHOL| CREA| GGT|PROT|\n",
            "+---+-------------+---+---+----+----+----+----+----+-----+----+-----+----+----+\n",
            "|  1|0=Blood Donor| 32|  m|38.5|52.5| 7.7|22.1| 7.5| 6.93|3.23|106.0|12.1|  69|\n",
            "|  2|0=Blood Donor| 32|  m|38.5|70.3|  18|24.7| 3.9|11.17| 4.8| 74.0|15.6|76.5|\n",
            "|  3|0=Blood Donor| 32|  m|46.9|74.7|36.2|52.6| 6.1| 8.84| 5.2| 86.0|33.2|79.3|\n",
            "|  4|0=Blood Donor| 32|  m|43.2|  52|30.6|22.6|18.9| 7.33|4.74| 80.0|33.8|75.7|\n",
            "|  5|0=Blood Donor| 32|  m|39.2|74.1|32.6|24.8| 9.6| 9.15|4.32| 76.0|29.9|68.7|\n",
            "|  6|0=Blood Donor| 32|  m|41.6|43.3|18.5|19.7|12.3| 9.92|6.05|111.0|91.0|  74|\n",
            "|  7|0=Blood Donor| 32|  m|46.3|41.3|17.5|17.8| 8.5| 7.01|4.79| 70.0|16.9|74.5|\n",
            "|  8|0=Blood Donor| 32|  m|42.2|41.9|35.8|31.1|16.1| 5.82| 4.6|109.0|21.5|67.1|\n",
            "|  9|0=Blood Donor| 32|  m|50.9|65.5|23.2|21.2| 6.9| 8.69| 4.1| 83.0|13.7|71.3|\n",
            "| 10|0=Blood Donor| 32|  m|42.4|86.3|20.3|20.0|35.2| 5.46|4.45| 81.0|15.9|69.9|\n",
            "| 11|0=Blood Donor| 32|  m|44.3|52.3|21.7|22.4|17.2| 4.15|3.57| 78.0|24.1|75.4|\n",
            "| 12|0=Blood Donor| 33|  m|46.4|68.2|10.3|20.0| 5.7| 7.36| 4.3| 79.0|18.7|68.6|\n",
            "| 13|0=Blood Donor| 33|  m|36.3|78.6|23.6|22.0| 7.0| 8.56|5.38| 78.0|19.4|68.7|\n",
            "| 14|0=Blood Donor| 33|  m|  39|51.7|15.9|24.0| 6.8| 6.46|3.38| 65.0| 7.0|70.4|\n",
            "| 15|0=Blood Donor| 33|  m|38.7|39.8|22.5|23.0| 4.1| 4.63|4.97| 63.0|15.2|71.9|\n",
            "| 16|0=Blood Donor| 33|  m|41.8|  65|33.1|38.0| 6.6| 8.83|4.43| 71.0|24.0|72.7|\n",
            "| 17|0=Blood Donor| 33|  m|40.9|  73|17.2|22.9|10.0| 6.98|5.22| 90.0|14.7|72.4|\n",
            "| 18|0=Blood Donor| 33|  m|45.2|88.3|32.4|31.2|10.1| 9.78|5.51|102.0|48.5|76.5|\n",
            "| 19|0=Blood Donor| 33|  m|36.6|57.1|38.9|40.3|24.9| 9.62| 5.5|112.0|27.6|69.3|\n",
            "| 20|0=Blood Donor| 33|  m|  42|63.1|32.6|34.9|11.2| 7.01|4.05|105.0|19.1|68.1|\n",
            "+---+-------------+---+---+----+----+----+----+----+-----+----+-----+----+----+\n",
            "only showing top 20 rows\n",
            "\n"
          ]
        }
      ],
      "source": [
        "df.show() # preview the dataset"
      ]
    },
    {
      "cell_type": "code",
      "execution_count": 15,
      "metadata": {
        "id": "IuT8jW9Qy9B0",
        "colab": {
          "base_uri": "https://localhost:8080/"
        },
        "outputId": "3d9e3ccc-e4d9-448e-c44e-f2ba5d151ecf"
      },
      "outputs": [
        {
          "output_type": "stream",
          "name": "stdout",
          "text": [
            "['_c0', 'Category', 'Age', 'Sex', 'ALB', 'ALP', 'ALT', 'AST', 'BIL', 'CHE', 'CHOL', 'CREA', 'GGT', 'PROT']\n"
          ]
        }
      ],
      "source": [
        "# checking for columns -- we will use them in the next steps\n",
        "print(df.columns)"
      ]
    },
    {
      "cell_type": "code",
      "execution_count": 16,
      "metadata": {
        "id": "fqhQGlNGy-rh"
      },
      "outputs": [],
      "source": [
        "# Rearranging for our ease\n",
        "df = df.select('Age', 'Sex', 'ALB', 'ALP', 'ALT', 'AST', 'BIL', 'CHE', 'CHOL', 'CREA', 'GGT', 'PROT','Category')"
      ]
    },
    {
      "cell_type": "code",
      "execution_count": 17,
      "metadata": {
        "id": "bIPNIhibzAX2",
        "colab": {
          "base_uri": "https://localhost:8080/"
        },
        "outputId": "4b14c06b-0c36-4c1b-c207-34c16d2a3aad"
      },
      "outputs": [
        {
          "output_type": "stream",
          "name": "stdout",
          "text": [
            "+---+---+----+----+----+----+----+-----+----+-----+----+----+-------------+\n",
            "|Age|Sex| ALB| ALP| ALT| AST| BIL|  CHE|CHOL| CREA| GGT|PROT|     Category|\n",
            "+---+---+----+----+----+----+----+-----+----+-----+----+----+-------------+\n",
            "| 32|  m|38.5|52.5| 7.7|22.1| 7.5| 6.93|3.23|106.0|12.1|  69|0=Blood Donor|\n",
            "| 32|  m|38.5|70.3|  18|24.7| 3.9|11.17| 4.8| 74.0|15.6|76.5|0=Blood Donor|\n",
            "| 32|  m|46.9|74.7|36.2|52.6| 6.1| 8.84| 5.2| 86.0|33.2|79.3|0=Blood Donor|\n",
            "| 32|  m|43.2|  52|30.6|22.6|18.9| 7.33|4.74| 80.0|33.8|75.7|0=Blood Donor|\n",
            "| 32|  m|39.2|74.1|32.6|24.8| 9.6| 9.15|4.32| 76.0|29.9|68.7|0=Blood Donor|\n",
            "+---+---+----+----+----+----+----+-----+----+-----+----+----+-------------+\n",
            "only showing top 5 rows\n",
            "\n"
          ]
        }
      ],
      "source": [
        "df.show(5)"
      ]
    },
    {
      "cell_type": "code",
      "execution_count": 18,
      "metadata": {
        "id": "Xl8T0zaIzBvi",
        "colab": {
          "base_uri": "https://localhost:8080/"
        },
        "outputId": "37956393-3dcc-4acd-d342-32938a894ad6"
      },
      "outputs": [
        {
          "output_type": "execute_result",
          "data": {
            "text/plain": [
              "[('Age', 'int'),\n",
              " ('Sex', 'string'),\n",
              " ('ALB', 'string'),\n",
              " ('ALP', 'string'),\n",
              " ('ALT', 'string'),\n",
              " ('AST', 'double'),\n",
              " ('BIL', 'double'),\n",
              " ('CHE', 'double'),\n",
              " ('CHOL', 'string'),\n",
              " ('CREA', 'double'),\n",
              " ('GGT', 'double'),\n",
              " ('PROT', 'string'),\n",
              " ('Category', 'string')]"
            ]
          },
          "metadata": {},
          "execution_count": 18
        }
      ],
      "source": [
        "# After InferSchema\n",
        "df.dtypes"
      ]
    },
    {
      "cell_type": "code",
      "execution_count": 19,
      "metadata": {
        "id": "gYug9hsZzDqW",
        "colab": {
          "base_uri": "https://localhost:8080/"
        },
        "outputId": "f35a4d3d-7344-40b6-f3f7-71f645979e8f"
      },
      "outputs": [
        {
          "output_type": "stream",
          "name": "stdout",
          "text": [
            "+-------+------------------+----+-----------------+------------------+------------------+-----------------+------------------+------------------+------------------+-----------------+-----------------+-----------------+-------------+\n",
            "|summary|               Age| Sex|              ALB|               ALP|               ALT|              AST|               BIL|               CHE|              CHOL|             CREA|              GGT|             PROT|     Category|\n",
            "+-------+------------------+----+-----------------+------------------+------------------+-----------------+------------------+------------------+------------------+-----------------+-----------------+-----------------+-------------+\n",
            "|  count|               615| 615|              615|               615|               615|              615|               615|               615|               615|              615|              615|              615|          615|\n",
            "|   mean| 47.40813008130081|NULL|41.62019543973941| 68.28391959798999| 28.45081433224754|34.78634146341462|11.396747967479675| 8.196634146341458| 5.368099173553719|81.28780487804877|39.53317073170732|72.04413680781768|         NULL|\n",
            "| stddev|10.055105445519239|NULL|5.780629404103076|26.028315300123676|25.469688813870942|33.09069033855156|19.673149805846588|2.2056572704292927|1.1327284311597354|49.75616601234976|54.66107123891245|5.402635737104955|         NULL|\n",
            "|    min|                19|   f|             14.9|             100.4|               0.9|             10.6|               0.8|              1.42|              1.43|              8.0|              4.5|             44.8|0=Blood Donor|\n",
            "|    max|                77|   m|               NA|                NA|                NA|            324.0|             254.0|             16.41|                NA|           1079.1|            650.9|               NA|  3=Cirrhosis|\n",
            "+-------+------------------+----+-----------------+------------------+------------------+-----------------+------------------+------------------+------------------+-----------------+-----------------+-----------------+-------------+\n",
            "\n",
            "None\n"
          ]
        }
      ],
      "source": [
        "# Summary of the description\n",
        "print(df.describe().show())"
      ]
    },
    {
      "cell_type": "code",
      "execution_count": 20,
      "metadata": {
        "id": "0QgZCfx0zFcL",
        "colab": {
          "base_uri": "https://localhost:8080/"
        },
        "outputId": "4d8ede49-e9af-46f9-c4e1-9b862a29d7b2"
      },
      "outputs": [
        {
          "output_type": "stream",
          "name": "stdout",
          "text": [
            "+--------------------+-----+\n",
            "|            Category|count|\n",
            "+--------------------+-----+\n",
            "|       0=Blood Donor|  533|\n",
            "|         3=Cirrhosis|   30|\n",
            "|          2=Fibrosis|   21|\n",
            "|0s=suspect Blood ...|    7|\n",
            "|         1=Hepatitis|   24|\n",
            "+--------------------+-----+\n",
            "\n"
          ]
        }
      ],
      "source": [
        "# Counting the variables\n",
        "df.groupBy('Category').count().show()"
      ]
    },
    {
      "cell_type": "markdown",
      "metadata": {
        "id": "_PetBwRFzJ47"
      },
      "source": [
        "Feature Engineering:\n",
        "- Numberical Values\n",
        "- Vectorization\n",
        "- Scaling"
      ]
    },
    {
      "cell_type": "code",
      "execution_count": 21,
      "metadata": {
        "id": "WswJG0_1zISO",
        "colab": {
          "base_uri": "https://localhost:8080/"
        },
        "outputId": "a1761eb3-34fe-4a30-9dc9-d5b25aa344af"
      },
      "outputs": [
        {
          "output_type": "execute_result",
          "data": {
            "text/plain": [
              "['Estimator',\n",
              " 'Model',\n",
              " 'Pipeline',\n",
              " 'PipelineModel',\n",
              " 'PredictionModel',\n",
              " 'Predictor',\n",
              " 'TorchDistributor',\n",
              " 'Transformer',\n",
              " 'UnaryTransformer',\n",
              " '__all__',\n",
              " '__builtins__',\n",
              " '__cached__',\n",
              " '__doc__',\n",
              " '__file__',\n",
              " '__loader__',\n",
              " '__name__',\n",
              " '__package__',\n",
              " '__path__',\n",
              " '__spec__',\n",
              " 'base',\n",
              " 'classification',\n",
              " 'clustering',\n",
              " 'common',\n",
              " 'evaluation',\n",
              " 'feature',\n",
              " 'fpm',\n",
              " 'image',\n",
              " 'linalg',\n",
              " 'param',\n",
              " 'pipeline',\n",
              " 'recommendation',\n",
              " 'regression',\n",
              " 'stat',\n",
              " 'torch',\n",
              " 'tree',\n",
              " 'tuning',\n",
              " 'util',\n",
              " 'wrapper']"
            ]
          },
          "metadata": {},
          "execution_count": 21
        }
      ],
      "source": [
        "import pyspark.ml\n",
        "dir(pyspark.ml)"
      ]
    },
    {
      "cell_type": "code",
      "execution_count": 22,
      "metadata": {
        "id": "i1o9qLHizTN6",
        "colab": {
          "base_uri": "https://localhost:8080/"
        },
        "outputId": "8152e72d-6dd9-45ae-c178-2981a2d5d5b2"
      },
      "outputs": [
        {
          "output_type": "stream",
          "name": "stdout",
          "text": [
            "+---+---+----+----+----+----+----+-----+----+-----+----+----+-------------+\n",
            "|Age|Sex| ALB| ALP| ALT| AST| BIL|  CHE|CHOL| CREA| GGT|PROT|     Category|\n",
            "+---+---+----+----+----+----+----+-----+----+-----+----+----+-------------+\n",
            "| 32|  m|38.5|52.5| 7.7|22.1| 7.5| 6.93|3.23|106.0|12.1|  69|0=Blood Donor|\n",
            "| 32|  m|38.5|70.3|  18|24.7| 3.9|11.17| 4.8| 74.0|15.6|76.5|0=Blood Donor|\n",
            "| 32|  m|46.9|74.7|36.2|52.6| 6.1| 8.84| 5.2| 86.0|33.2|79.3|0=Blood Donor|\n",
            "| 32|  m|43.2|  52|30.6|22.6|18.9| 7.33|4.74| 80.0|33.8|75.7|0=Blood Donor|\n",
            "+---+---+----+----+----+----+----+-----+----+-----+----+----+-------------+\n",
            "only showing top 4 rows\n",
            "\n"
          ]
        }
      ],
      "source": [
        "# Loading the ML packages we will need\n",
        "from pyspark.ml.feature import VectorAssembler,StringIndexer\n",
        "df.show(4)"
      ]
    },
    {
      "cell_type": "code",
      "execution_count": 23,
      "metadata": {
        "id": "9FQ_weW-zUuv",
        "colab": {
          "base_uri": "https://localhost:8080/"
        },
        "outputId": "dfad1615-e849-4673-d907-0164960e2918"
      },
      "outputs": [
        {
          "output_type": "stream",
          "name": "stdout",
          "text": [
            "+---+\n",
            "|Sex|\n",
            "+---+\n",
            "|  m|\n",
            "|  f|\n",
            "+---+\n",
            "\n"
          ]
        }
      ],
      "source": [
        "# Getting the unique Values for Sex\n",
        "df.select('Sex').distinct().show()"
      ]
    },
    {
      "cell_type": "code",
      "execution_count": 24,
      "metadata": {
        "id": "pJofDJVLzWNs"
      },
      "outputs": [],
      "source": [
        "# Converting the string into numerical code\n",
        "genderEncoder = StringIndexer(inputCol='Sex',outputCol='Gender').fit(df)"
      ]
    },
    {
      "cell_type": "code",
      "execution_count": 25,
      "metadata": {
        "id": "V1-Ixd2lzY1R",
        "colab": {
          "base_uri": "https://localhost:8080/"
        },
        "outputId": "7dd69026-d062-4297-baff-682f2869369a"
      },
      "outputs": [
        {
          "output_type": "stream",
          "name": "stdout",
          "text": [
            "+---+---+----+----+----+----+----+-----+----+-----+----+----+-------------+\n",
            "|Age|Sex| ALB| ALP| ALT| AST| BIL|  CHE|CHOL| CREA| GGT|PROT|     Category|\n",
            "+---+---+----+----+----+----+----+-----+----+-----+----+----+-------------+\n",
            "| 32|  m|38.5|52.5| 7.7|22.1| 7.5| 6.93|3.23|106.0|12.1|  69|0=Blood Donor|\n",
            "| 32|  m|38.5|70.3|  18|24.7| 3.9|11.17| 4.8| 74.0|15.6|76.5|0=Blood Donor|\n",
            "| 32|  m|46.9|74.7|36.2|52.6| 6.1| 8.84| 5.2| 86.0|33.2|79.3|0=Blood Donor|\n",
            "| 32|  m|43.2|  52|30.6|22.6|18.9| 7.33|4.74| 80.0|33.8|75.7|0=Blood Donor|\n",
            "| 32|  m|39.2|74.1|32.6|24.8| 9.6| 9.15|4.32| 76.0|29.9|68.7|0=Blood Donor|\n",
            "+---+---+----+----+----+----+----+-----+----+-----+----+----+-------------+\n",
            "only showing top 5 rows\n",
            "\n"
          ]
        }
      ],
      "source": [
        "df.show(5)"
      ]
    },
    {
      "cell_type": "code",
      "execution_count": 26,
      "metadata": {
        "id": "iGpSZIXuzai1"
      },
      "outputs": [],
      "source": [
        "# Encoding for Category now\n",
        "catEncoder = StringIndexer(inputCol='Category',outputCol='Target').fit(df)\n",
        "df = catEncoder.transform(df)"
      ]
    },
    {
      "cell_type": "code",
      "execution_count": 27,
      "metadata": {
        "id": "TabEJBYtzdAA",
        "colab": {
          "base_uri": "https://localhost:8080/"
        },
        "outputId": "83431421-106b-45e7-d325-99ef1e04c1aa"
      },
      "outputs": [
        {
          "output_type": "stream",
          "name": "stdout",
          "text": [
            "+---+---+----+----+----+----+----+-----+----+-----+----+----+-------------+------+\n",
            "|Age|Sex| ALB| ALP| ALT| AST| BIL|  CHE|CHOL| CREA| GGT|PROT|     Category|Target|\n",
            "+---+---+----+----+----+----+----+-----+----+-----+----+----+-------------+------+\n",
            "| 32|  m|38.5|52.5| 7.7|22.1| 7.5| 6.93|3.23|106.0|12.1|  69|0=Blood Donor|   0.0|\n",
            "| 32|  m|38.5|70.3|  18|24.7| 3.9|11.17| 4.8| 74.0|15.6|76.5|0=Blood Donor|   0.0|\n",
            "| 32|  m|46.9|74.7|36.2|52.6| 6.1| 8.84| 5.2| 86.0|33.2|79.3|0=Blood Donor|   0.0|\n",
            "| 32|  m|43.2|  52|30.6|22.6|18.9| 7.33|4.74| 80.0|33.8|75.7|0=Blood Donor|   0.0|\n",
            "| 32|  m|39.2|74.1|32.6|24.8| 9.6| 9.15|4.32| 76.0|29.9|68.7|0=Blood Donor|   0.0|\n",
            "+---+---+----+----+----+----+----+-----+----+-----+----+----+-------------+------+\n",
            "only showing top 5 rows\n",
            "\n"
          ]
        }
      ],
      "source": [
        "df.show(5)"
      ]
    },
    {
      "cell_type": "code",
      "execution_count": 28,
      "metadata": {
        "id": "a78Upiz7zeQW",
        "colab": {
          "base_uri": "https://localhost:8080/"
        },
        "outputId": "d1de3c19-bcf5-4dff-b2ff-500a21c07da6"
      },
      "outputs": [
        {
          "output_type": "execute_result",
          "data": {
            "text/plain": [
              "['0=Blood Donor',\n",
              " '3=Cirrhosis',\n",
              " '1=Hepatitis',\n",
              " '2=Fibrosis',\n",
              " '0s=suspect Blood Donor']"
            ]
          },
          "metadata": {},
          "execution_count": 28
        }
      ],
      "source": [
        "# Geting the labels\n",
        "catEncoder.labels"
      ]
    },
    {
      "cell_type": "code",
      "execution_count": 29,
      "metadata": {
        "id": "2kllwqDvzgxp"
      },
      "outputs": [],
      "source": [
        "# Index_Tod_String now\n",
        "from pyspark.ml.feature import IndexToString"
      ]
    },
    {
      "cell_type": "code",
      "execution_count": 30,
      "metadata": {
        "id": "vk-8MZqqzlsB",
        "colab": {
          "base_uri": "https://localhost:8080/"
        },
        "outputId": "07209016-9602-41fb-b19b-fa8640a7163a"
      },
      "outputs": [
        {
          "output_type": "stream",
          "name": "stdout",
          "text": [
            "+---+---+----+----+----+----+----+-----+----+-----+----+----+-------------+------+-------------+\n",
            "|Age|Sex| ALB| ALP| ALT| AST| BIL|  CHE|CHOL| CREA| GGT|PROT|     Category|Target|     orig_cat|\n",
            "+---+---+----+----+----+----+----+-----+----+-----+----+----+-------------+------+-------------+\n",
            "| 32|  m|38.5|52.5| 7.7|22.1| 7.5| 6.93|3.23|106.0|12.1|  69|0=Blood Donor|   0.0|0=Blood Donor|\n",
            "| 32|  m|38.5|70.3|  18|24.7| 3.9|11.17| 4.8| 74.0|15.6|76.5|0=Blood Donor|   0.0|0=Blood Donor|\n",
            "| 32|  m|46.9|74.7|36.2|52.6| 6.1| 8.84| 5.2| 86.0|33.2|79.3|0=Blood Donor|   0.0|0=Blood Donor|\n",
            "| 32|  m|43.2|  52|30.6|22.6|18.9| 7.33|4.74| 80.0|33.8|75.7|0=Blood Donor|   0.0|0=Blood Donor|\n",
            "| 32|  m|39.2|74.1|32.6|24.8| 9.6| 9.15|4.32| 76.0|29.9|68.7|0=Blood Donor|   0.0|0=Blood Donor|\n",
            "| 32|  m|41.6|43.3|18.5|19.7|12.3| 9.92|6.05|111.0|91.0|  74|0=Blood Donor|   0.0|0=Blood Donor|\n",
            "| 32|  m|46.3|41.3|17.5|17.8| 8.5| 7.01|4.79| 70.0|16.9|74.5|0=Blood Donor|   0.0|0=Blood Donor|\n",
            "| 32|  m|42.2|41.9|35.8|31.1|16.1| 5.82| 4.6|109.0|21.5|67.1|0=Blood Donor|   0.0|0=Blood Donor|\n",
            "| 32|  m|50.9|65.5|23.2|21.2| 6.9| 8.69| 4.1| 83.0|13.7|71.3|0=Blood Donor|   0.0|0=Blood Donor|\n",
            "| 32|  m|42.4|86.3|20.3|20.0|35.2| 5.46|4.45| 81.0|15.9|69.9|0=Blood Donor|   0.0|0=Blood Donor|\n",
            "| 32|  m|44.3|52.3|21.7|22.4|17.2| 4.15|3.57| 78.0|24.1|75.4|0=Blood Donor|   0.0|0=Blood Donor|\n",
            "| 33|  m|46.4|68.2|10.3|20.0| 5.7| 7.36| 4.3| 79.0|18.7|68.6|0=Blood Donor|   0.0|0=Blood Donor|\n",
            "| 33|  m|36.3|78.6|23.6|22.0| 7.0| 8.56|5.38| 78.0|19.4|68.7|0=Blood Donor|   0.0|0=Blood Donor|\n",
            "| 33|  m|  39|51.7|15.9|24.0| 6.8| 6.46|3.38| 65.0| 7.0|70.4|0=Blood Donor|   0.0|0=Blood Donor|\n",
            "| 33|  m|38.7|39.8|22.5|23.0| 4.1| 4.63|4.97| 63.0|15.2|71.9|0=Blood Donor|   0.0|0=Blood Donor|\n",
            "| 33|  m|41.8|  65|33.1|38.0| 6.6| 8.83|4.43| 71.0|24.0|72.7|0=Blood Donor|   0.0|0=Blood Donor|\n",
            "| 33|  m|40.9|  73|17.2|22.9|10.0| 6.98|5.22| 90.0|14.7|72.4|0=Blood Donor|   0.0|0=Blood Donor|\n",
            "| 33|  m|45.2|88.3|32.4|31.2|10.1| 9.78|5.51|102.0|48.5|76.5|0=Blood Donor|   0.0|0=Blood Donor|\n",
            "| 33|  m|36.6|57.1|38.9|40.3|24.9| 9.62| 5.5|112.0|27.6|69.3|0=Blood Donor|   0.0|0=Blood Donor|\n",
            "| 33|  m|  42|63.1|32.6|34.9|11.2| 7.01|4.05|105.0|19.1|68.1|0=Blood Donor|   0.0|0=Blood Donor|\n",
            "+---+---+----+----+----+----+----+-----+----+-----+----+----+-------------+------+-------------+\n",
            "only showing top 20 rows\n",
            "\n"
          ]
        }
      ],
      "source": [
        "converter = IndexToString(inputCol='Target',outputCol='orig_cat')\n",
        "converted_df = converter.transform(df)\n",
        "converted_df.show()"
      ]
    },
    {
      "cell_type": "code",
      "execution_count": 31,
      "metadata": {
        "id": "83ydY5XrzowS",
        "colab": {
          "base_uri": "https://localhost:8080/"
        },
        "outputId": "9be343f0-5427-42d6-cda5-e1d5e214f864"
      },
      "outputs": [
        {
          "output_type": "stream",
          "name": "stdout",
          "text": [
            "+---+---+----+----+----+----+----+-----+----+-----+----+----+-------------+------+\n",
            "|Age|Sex| ALB| ALP| ALT| AST| BIL|  CHE|CHOL| CREA| GGT|PROT|     Category|Target|\n",
            "+---+---+----+----+----+----+----+-----+----+-----+----+----+-------------+------+\n",
            "| 32|  m|38.5|52.5| 7.7|22.1| 7.5| 6.93|3.23|106.0|12.1|  69|0=Blood Donor|   0.0|\n",
            "| 32|  m|38.5|70.3|  18|24.7| 3.9|11.17| 4.8| 74.0|15.6|76.5|0=Blood Donor|   0.0|\n",
            "| 32|  m|46.9|74.7|36.2|52.6| 6.1| 8.84| 5.2| 86.0|33.2|79.3|0=Blood Donor|   0.0|\n",
            "| 32|  m|43.2|  52|30.6|22.6|18.9| 7.33|4.74| 80.0|33.8|75.7|0=Blood Donor|   0.0|\n",
            "| 32|  m|39.2|74.1|32.6|24.8| 9.6| 9.15|4.32| 76.0|29.9|68.7|0=Blood Donor|   0.0|\n",
            "| 32|  m|41.6|43.3|18.5|19.7|12.3| 9.92|6.05|111.0|91.0|  74|0=Blood Donor|   0.0|\n",
            "| 32|  m|46.3|41.3|17.5|17.8| 8.5| 7.01|4.79| 70.0|16.9|74.5|0=Blood Donor|   0.0|\n",
            "| 32|  m|42.2|41.9|35.8|31.1|16.1| 5.82| 4.6|109.0|21.5|67.1|0=Blood Donor|   0.0|\n",
            "| 32|  m|50.9|65.5|23.2|21.2| 6.9| 8.69| 4.1| 83.0|13.7|71.3|0=Blood Donor|   0.0|\n",
            "| 32|  m|42.4|86.3|20.3|20.0|35.2| 5.46|4.45| 81.0|15.9|69.9|0=Blood Donor|   0.0|\n",
            "| 32|  m|44.3|52.3|21.7|22.4|17.2| 4.15|3.57| 78.0|24.1|75.4|0=Blood Donor|   0.0|\n",
            "| 33|  m|46.4|68.2|10.3|20.0| 5.7| 7.36| 4.3| 79.0|18.7|68.6|0=Blood Donor|   0.0|\n",
            "| 33|  m|36.3|78.6|23.6|22.0| 7.0| 8.56|5.38| 78.0|19.4|68.7|0=Blood Donor|   0.0|\n",
            "| 33|  m|  39|51.7|15.9|24.0| 6.8| 6.46|3.38| 65.0| 7.0|70.4|0=Blood Donor|   0.0|\n",
            "| 33|  m|38.7|39.8|22.5|23.0| 4.1| 4.63|4.97| 63.0|15.2|71.9|0=Blood Donor|   0.0|\n",
            "| 33|  m|41.8|  65|33.1|38.0| 6.6| 8.83|4.43| 71.0|24.0|72.7|0=Blood Donor|   0.0|\n",
            "| 33|  m|40.9|  73|17.2|22.9|10.0| 6.98|5.22| 90.0|14.7|72.4|0=Blood Donor|   0.0|\n",
            "| 33|  m|45.2|88.3|32.4|31.2|10.1| 9.78|5.51|102.0|48.5|76.5|0=Blood Donor|   0.0|\n",
            "| 33|  m|36.6|57.1|38.9|40.3|24.9| 9.62| 5.5|112.0|27.6|69.3|0=Blood Donor|   0.0|\n",
            "| 33|  m|  42|63.1|32.6|34.9|11.2| 7.01|4.05|105.0|19.1|68.1|0=Blood Donor|   0.0|\n",
            "+---+---+----+----+----+----+----+-----+----+-----+----+----+-------------+------+\n",
            "only showing top 20 rows\n",
            "\n"
          ]
        }
      ],
      "source": [
        "# our features\n",
        "df.show()"
      ]
    },
    {
      "cell_type": "code",
      "execution_count": 32,
      "metadata": {
        "id": "RydJs2nJzqCM",
        "colab": {
          "base_uri": "https://localhost:8080/"
        },
        "outputId": "c8361d01-2dc0-492c-9b4d-61d20e402070"
      },
      "outputs": [
        {
          "output_type": "stream",
          "name": "stdout",
          "text": [
            "['Age', 'Sex', 'ALB', 'ALP', 'ALT', 'AST', 'BIL', 'CHE', 'CHOL', 'CREA', 'GGT', 'PROT', 'Category', 'Target']\n"
          ]
        }
      ],
      "source": [
        "print(df.columns)"
      ]
    },
    {
      "cell_type": "code",
      "execution_count": 33,
      "metadata": {
        "id": "XjTn2L_0zwLd",
        "colab": {
          "base_uri": "https://localhost:8080/"
        },
        "outputId": "50699f31-5850-4303-b75a-c512251d5789"
      },
      "outputs": [
        {
          "output_type": "execute_result",
          "data": {
            "text/plain": [
              "[('Age', 'int'),\n",
              " ('Sex', 'string'),\n",
              " ('ALB', 'string'),\n",
              " ('ALP', 'string'),\n",
              " ('ALT', 'string'),\n",
              " ('AST', 'double'),\n",
              " ('BIL', 'double'),\n",
              " ('CHE', 'double'),\n",
              " ('CHOL', 'string'),\n",
              " ('CREA', 'double'),\n",
              " ('GGT', 'double'),\n",
              " ('PROT', 'string'),\n",
              " ('Category', 'string'),\n",
              " ('Target', 'double')]"
            ]
          },
          "metadata": {},
          "execution_count": 33
        }
      ],
      "source": [
        "df.dtypes"
      ]
    },
    {
      "cell_type": "code",
      "execution_count": 34,
      "metadata": {
        "id": "weyDF5Z2zzG2"
      },
      "outputs": [],
      "source": [
        "df2 = df.select('Age', 'ALB', 'ALP', 'ALT', 'AST', 'BIL', 'CHE', 'CHOL', 'CREA', 'GGT', 'PROT', 'Target')\n"
      ]
    },
    {
      "cell_type": "code",
      "execution_count": 35,
      "metadata": {
        "id": "pV_X4qagz1GD",
        "colab": {
          "base_uri": "https://localhost:8080/"
        },
        "outputId": "8201b88b-0f5a-4855-f4d5-c14d6c3dc704"
      },
      "outputs": [
        {
          "output_type": "stream",
          "name": "stdout",
          "text": [
            "root\n",
            " |-- Age: integer (nullable = true)\n",
            " |-- ALB: string (nullable = true)\n",
            " |-- ALP: string (nullable = true)\n",
            " |-- ALT: string (nullable = true)\n",
            " |-- AST: double (nullable = true)\n",
            " |-- BIL: double (nullable = true)\n",
            " |-- CHE: double (nullable = true)\n",
            " |-- CHOL: string (nullable = true)\n",
            " |-- CREA: double (nullable = true)\n",
            " |-- GGT: double (nullable = true)\n",
            " |-- PROT: string (nullable = true)\n",
            " |-- Target: double (nullable = false)\n",
            "\n"
          ]
        }
      ],
      "source": [
        "df2.printSchema()"
      ]
    },
    {
      "cell_type": "code",
      "execution_count": 36,
      "metadata": {
        "id": "afX-8tHlz3bd"
      },
      "outputs": [],
      "source": [
        "df2 = df2.toPandas().replace('NA',0).astype(float)"
      ]
    },
    {
      "cell_type": "code",
      "execution_count": 37,
      "metadata": {
        "id": "ArWANviVz5KD",
        "colab": {
          "base_uri": "https://localhost:8080/",
          "height": 204
        },
        "outputId": "8b71d420-ed4a-4adc-cbc5-19ae28d33475"
      },
      "outputs": [
        {
          "output_type": "execute_result",
          "data": {
            "text/plain": [
              "pandas.core.frame.DataFrame"
            ],
            "text/html": [
              "<div style=\"max-width:800px; border: 1px solid var(--colab-border-color);\"><style>\n",
              "      pre.function-repr-contents {\n",
              "        overflow-x: auto;\n",
              "        padding: 8px 12px;\n",
              "        max-height: 500px;\n",
              "      }\n",
              "\n",
              "      pre.function-repr-contents.function-repr-contents-collapsed {\n",
              "        cursor: pointer;\n",
              "        max-height: 100px;\n",
              "      }\n",
              "    </style>\n",
              "    <pre style=\"white-space: initial; background:\n",
              "         var(--colab-secondary-surface-color); padding: 8px 12px;\n",
              "         border-bottom: 1px solid var(--colab-border-color);\"><b>pandas.core.frame.DataFrame</b><br/>def __init__(data=None, index: Axes | None=None, columns: Axes | None=None, dtype: Dtype | None=None, copy: bool | None=None) -&gt; None</pre><pre class=\"function-repr-contents function-repr-contents-collapsed\" style=\"\"><a class=\"filepath\" style=\"display:none\" href=\"#\">/usr/local/lib/python3.10/dist-packages/pandas/core/frame.py</a>Two-dimensional, size-mutable, potentially heterogeneous tabular data.\n",
              "\n",
              "Data structure also contains labeled axes (rows and columns).\n",
              "Arithmetic operations align on both row and column labels. Can be\n",
              "thought of as a dict-like container for Series objects. The primary\n",
              "pandas data structure.\n",
              "\n",
              "Parameters\n",
              "----------\n",
              "data : ndarray (structured or homogeneous), Iterable, dict, or DataFrame\n",
              "    Dict can contain Series, arrays, constants, dataclass or list-like objects. If\n",
              "    data is a dict, column order follows insertion-order. If a dict contains Series\n",
              "    which have an index defined, it is aligned by its index. This alignment also\n",
              "    occurs if data is a Series or a DataFrame itself. Alignment is done on\n",
              "    Series/DataFrame inputs.\n",
              "\n",
              "    If data is a list of dicts, column order follows insertion-order.\n",
              "\n",
              "index : Index or array-like\n",
              "    Index to use for resulting frame. Will default to RangeIndex if\n",
              "    no indexing information part of input data and no index provided.\n",
              "columns : Index or array-like\n",
              "    Column labels to use for resulting frame when data does not have them,\n",
              "    defaulting to RangeIndex(0, 1, 2, ..., n). If data contains column labels,\n",
              "    will perform column selection instead.\n",
              "dtype : dtype, default None\n",
              "    Data type to force. Only a single dtype is allowed. If None, infer.\n",
              "copy : bool or None, default None\n",
              "    Copy data from inputs.\n",
              "    For dict data, the default of None behaves like ``copy=True``.  For DataFrame\n",
              "    or 2d ndarray input, the default of None behaves like ``copy=False``.\n",
              "    If data is a dict containing one or more Series (possibly of different dtypes),\n",
              "    ``copy=False`` will ensure that these inputs are not copied.\n",
              "\n",
              "    .. versionchanged:: 1.3.0\n",
              "\n",
              "See Also\n",
              "--------\n",
              "DataFrame.from_records : Constructor from tuples, also record arrays.\n",
              "DataFrame.from_dict : From dicts of Series, arrays, or dicts.\n",
              "read_csv : Read a comma-separated values (csv) file into DataFrame.\n",
              "read_table : Read general delimited file into DataFrame.\n",
              "read_clipboard : Read text from clipboard into DataFrame.\n",
              "\n",
              "Notes\n",
              "-----\n",
              "Please reference the :ref:`User Guide &lt;basics.dataframe&gt;` for more information.\n",
              "\n",
              "Examples\n",
              "--------\n",
              "Constructing DataFrame from a dictionary.\n",
              "\n",
              "&gt;&gt;&gt; d = {&#x27;col1&#x27;: [1, 2], &#x27;col2&#x27;: [3, 4]}\n",
              "&gt;&gt;&gt; df = pd.DataFrame(data=d)\n",
              "&gt;&gt;&gt; df\n",
              "   col1  col2\n",
              "0     1     3\n",
              "1     2     4\n",
              "\n",
              "Notice that the inferred dtype is int64.\n",
              "\n",
              "&gt;&gt;&gt; df.dtypes\n",
              "col1    int64\n",
              "col2    int64\n",
              "dtype: object\n",
              "\n",
              "To enforce a single dtype:\n",
              "\n",
              "&gt;&gt;&gt; df = pd.DataFrame(data=d, dtype=np.int8)\n",
              "&gt;&gt;&gt; df.dtypes\n",
              "col1    int8\n",
              "col2    int8\n",
              "dtype: object\n",
              "\n",
              "Constructing DataFrame from a dictionary including Series:\n",
              "\n",
              "&gt;&gt;&gt; d = {&#x27;col1&#x27;: [0, 1, 2, 3], &#x27;col2&#x27;: pd.Series([2, 3], index=[2, 3])}\n",
              "&gt;&gt;&gt; pd.DataFrame(data=d, index=[0, 1, 2, 3])\n",
              "   col1  col2\n",
              "0     0   NaN\n",
              "1     1   NaN\n",
              "2     2   2.0\n",
              "3     3   3.0\n",
              "\n",
              "Constructing DataFrame from numpy ndarray:\n",
              "\n",
              "&gt;&gt;&gt; df2 = pd.DataFrame(np.array([[1, 2, 3], [4, 5, 6], [7, 8, 9]]),\n",
              "...                    columns=[&#x27;a&#x27;, &#x27;b&#x27;, &#x27;c&#x27;])\n",
              "&gt;&gt;&gt; df2\n",
              "   a  b  c\n",
              "0  1  2  3\n",
              "1  4  5  6\n",
              "2  7  8  9\n",
              "\n",
              "Constructing DataFrame from a numpy ndarray that has labeled columns:\n",
              "\n",
              "&gt;&gt;&gt; data = np.array([(1, 2, 3), (4, 5, 6), (7, 8, 9)],\n",
              "...                 dtype=[(&quot;a&quot;, &quot;i4&quot;), (&quot;b&quot;, &quot;i4&quot;), (&quot;c&quot;, &quot;i4&quot;)])\n",
              "&gt;&gt;&gt; df3 = pd.DataFrame(data, columns=[&#x27;c&#x27;, &#x27;a&#x27;])\n",
              "...\n",
              "&gt;&gt;&gt; df3\n",
              "   c  a\n",
              "0  3  1\n",
              "1  6  4\n",
              "2  9  7\n",
              "\n",
              "Constructing DataFrame from dataclass:\n",
              "\n",
              "&gt;&gt;&gt; from dataclasses import make_dataclass\n",
              "&gt;&gt;&gt; Point = make_dataclass(&quot;Point&quot;, [(&quot;x&quot;, int), (&quot;y&quot;, int)])\n",
              "&gt;&gt;&gt; pd.DataFrame([Point(0, 0), Point(0, 3), Point(2, 3)])\n",
              "   x  y\n",
              "0  0  0\n",
              "1  0  3\n",
              "2  2  3\n",
              "\n",
              "Constructing DataFrame from Series/DataFrame:\n",
              "\n",
              "&gt;&gt;&gt; ser = pd.Series([1, 2, 3], index=[&quot;a&quot;, &quot;b&quot;, &quot;c&quot;])\n",
              "&gt;&gt;&gt; df = pd.DataFrame(data=ser, index=[&quot;a&quot;, &quot;c&quot;])\n",
              "&gt;&gt;&gt; df\n",
              "   0\n",
              "a  1\n",
              "c  3\n",
              "\n",
              "&gt;&gt;&gt; df1 = pd.DataFrame([1, 2, 3], index=[&quot;a&quot;, &quot;b&quot;, &quot;c&quot;], columns=[&quot;x&quot;])\n",
              "&gt;&gt;&gt; df2 = pd.DataFrame(data=df1, index=[&quot;a&quot;, &quot;c&quot;])\n",
              "&gt;&gt;&gt; df2\n",
              "   x\n",
              "a  1\n",
              "c  3</pre>\n",
              "      <script>\n",
              "      if (google.colab.kernel.accessAllowed && google.colab.files && google.colab.files.view) {\n",
              "        for (const element of document.querySelectorAll('.filepath')) {\n",
              "          element.style.display = 'block'\n",
              "          element.onclick = (event) => {\n",
              "            event.preventDefault();\n",
              "            event.stopPropagation();\n",
              "            google.colab.files.view(element.textContent, 490);\n",
              "          };\n",
              "        }\n",
              "      }\n",
              "      for (const element of document.querySelectorAll('.function-repr-contents')) {\n",
              "        element.onclick = (event) => {\n",
              "          event.preventDefault();\n",
              "          event.stopPropagation();\n",
              "          element.classList.toggle('function-repr-contents-collapsed');\n",
              "        };\n",
              "      }\n",
              "      </script>\n",
              "      </div>"
            ]
          },
          "metadata": {},
          "execution_count": 37
        }
      ],
      "source": [
        "type(df2) # converted"
      ]
    },
    {
      "cell_type": "code",
      "execution_count": 38,
      "metadata": {
        "id": "M4V41f8uz7Rm",
        "colab": {
          "base_uri": "https://localhost:8080/",
          "height": 187
        },
        "outputId": "8db9431b-d45f-4baf-c50a-d24b210c5d9d"
      },
      "outputs": [
        {
          "output_type": "execute_result",
          "data": {
            "text/plain": [
              "pyspark.sql.dataframe.DataFrame"
            ],
            "text/html": [
              "<div style=\"max-width:800px; border: 1px solid var(--colab-border-color);\"><style>\n",
              "      pre.function-repr-contents {\n",
              "        overflow-x: auto;\n",
              "        padding: 8px 12px;\n",
              "        max-height: 500px;\n",
              "      }\n",
              "\n",
              "      pre.function-repr-contents.function-repr-contents-collapsed {\n",
              "        cursor: pointer;\n",
              "        max-height: 100px;\n",
              "      }\n",
              "    </style>\n",
              "    <pre style=\"white-space: initial; background:\n",
              "         var(--colab-secondary-surface-color); padding: 8px 12px;\n",
              "         border-bottom: 1px solid var(--colab-border-color);\"><b>pyspark.sql.dataframe.DataFrame</b><br/>def __init__(jdf: JavaObject, sql_ctx: Union[&#x27;SQLContext&#x27;, &#x27;SparkSession&#x27;])</pre><pre class=\"function-repr-contents function-repr-contents-collapsed\" style=\"\"><a class=\"filepath\" style=\"display:none\" href=\"#\">/usr/local/lib/python3.10/dist-packages/pyspark/sql/dataframe.py</a>A distributed collection of data grouped into named columns.\n",
              "\n",
              ".. versionadded:: 1.3.0\n",
              "\n",
              ".. versionchanged:: 3.4.0\n",
              "    Supports Spark Connect.\n",
              "\n",
              "Examples\n",
              "--------\n",
              "A :class:`DataFrame` is equivalent to a relational table in Spark SQL,\n",
              "and can be created using various functions in :class:`SparkSession`:\n",
              "\n",
              "&gt;&gt;&gt; people = spark.createDataFrame([\n",
              "...     {&quot;deptId&quot;: 1, &quot;age&quot;: 40, &quot;name&quot;: &quot;Hyukjin Kwon&quot;, &quot;gender&quot;: &quot;M&quot;, &quot;salary&quot;: 50},\n",
              "...     {&quot;deptId&quot;: 1, &quot;age&quot;: 50, &quot;name&quot;: &quot;Takuya Ueshin&quot;, &quot;gender&quot;: &quot;M&quot;, &quot;salary&quot;: 100},\n",
              "...     {&quot;deptId&quot;: 2, &quot;age&quot;: 60, &quot;name&quot;: &quot;Xinrong Meng&quot;, &quot;gender&quot;: &quot;F&quot;, &quot;salary&quot;: 150},\n",
              "...     {&quot;deptId&quot;: 3, &quot;age&quot;: 20, &quot;name&quot;: &quot;Haejoon Lee&quot;, &quot;gender&quot;: &quot;M&quot;, &quot;salary&quot;: 200}\n",
              "... ])\n",
              "\n",
              "Once created, it can be manipulated using the various domain-specific-language\n",
              "(DSL) functions defined in: :class:`DataFrame`, :class:`Column`.\n",
              "\n",
              "To select a column from the :class:`DataFrame`, use the apply method:\n",
              "\n",
              "&gt;&gt;&gt; age_col = people.age\n",
              "\n",
              "A more concrete example:\n",
              "\n",
              "&gt;&gt;&gt; # To create DataFrame using SparkSession\n",
              "... department = spark.createDataFrame([\n",
              "...     {&quot;id&quot;: 1, &quot;name&quot;: &quot;PySpark&quot;},\n",
              "...     {&quot;id&quot;: 2, &quot;name&quot;: &quot;ML&quot;},\n",
              "...     {&quot;id&quot;: 3, &quot;name&quot;: &quot;Spark SQL&quot;}\n",
              "... ])\n",
              "\n",
              "&gt;&gt;&gt; people.filter(people.age &gt; 30).join(\n",
              "...     department, people.deptId == department.id).groupBy(\n",
              "...     department.name, &quot;gender&quot;).agg({&quot;salary&quot;: &quot;avg&quot;, &quot;age&quot;: &quot;max&quot;}).show()\n",
              "+-------+------+-----------+--------+\n",
              "|   name|gender|avg(salary)|max(age)|\n",
              "+-------+------+-----------+--------+\n",
              "|     ML|     F|      150.0|      60|\n",
              "|PySpark|     M|       75.0|      50|\n",
              "+-------+------+-----------+--------+\n",
              "\n",
              "Notes\n",
              "-----\n",
              "A DataFrame should only be created as described above. It should not be directly\n",
              "created via using the constructor.</pre>\n",
              "      <script>\n",
              "      if (google.colab.kernel.accessAllowed && google.colab.files && google.colab.files.view) {\n",
              "        for (const element of document.querySelectorAll('.filepath')) {\n",
              "          element.style.display = 'block'\n",
              "          element.onclick = (event) => {\n",
              "            event.preventDefault();\n",
              "            event.stopPropagation();\n",
              "            google.colab.files.view(element.textContent, 80);\n",
              "          };\n",
              "        }\n",
              "      }\n",
              "      for (const element of document.querySelectorAll('.function-repr-contents')) {\n",
              "        element.onclick = (event) => {\n",
              "          event.preventDefault();\n",
              "          event.stopPropagation();\n",
              "          element.classList.toggle('function-repr-contents-collapsed');\n",
              "        };\n",
              "      }\n",
              "      </script>\n",
              "      </div>"
            ]
          },
          "metadata": {},
          "execution_count": 38
        }
      ],
      "source": [
        "type(df)"
      ]
    },
    {
      "cell_type": "code",
      "execution_count": 39,
      "metadata": {
        "id": "ixPKud88z7yV",
        "colab": {
          "base_uri": "https://localhost:8080/"
        },
        "outputId": "03811100-87c3-4325-9974-c6ed761fdd8e"
      },
      "outputs": [
        {
          "output_type": "stream",
          "name": "stdout",
          "text": [
            "+----+----+----+----+----+----+-----+----+-----+----+----+------+\n",
            "| Age| ALB| ALP| ALT| AST| BIL|  CHE|CHOL| CREA| GGT|PROT|Target|\n",
            "+----+----+----+----+----+----+-----+----+-----+----+----+------+\n",
            "|32.0|38.5|52.5| 7.7|22.1| 7.5| 6.93|3.23|106.0|12.1|69.0|   0.0|\n",
            "|32.0|38.5|70.3|18.0|24.7| 3.9|11.17| 4.8| 74.0|15.6|76.5|   0.0|\n",
            "|32.0|46.9|74.7|36.2|52.6| 6.1| 8.84| 5.2| 86.0|33.2|79.3|   0.0|\n",
            "|32.0|43.2|52.0|30.6|22.6|18.9| 7.33|4.74| 80.0|33.8|75.7|   0.0|\n",
            "|32.0|39.2|74.1|32.6|24.8| 9.6| 9.15|4.32| 76.0|29.9|68.7|   0.0|\n",
            "|32.0|41.6|43.3|18.5|19.7|12.3| 9.92|6.05|111.0|91.0|74.0|   0.0|\n",
            "|32.0|46.3|41.3|17.5|17.8| 8.5| 7.01|4.79| 70.0|16.9|74.5|   0.0|\n",
            "|32.0|42.2|41.9|35.8|31.1|16.1| 5.82| 4.6|109.0|21.5|67.1|   0.0|\n",
            "|32.0|50.9|65.5|23.2|21.2| 6.9| 8.69| 4.1| 83.0|13.7|71.3|   0.0|\n",
            "|32.0|42.4|86.3|20.3|20.0|35.2| 5.46|4.45| 81.0|15.9|69.9|   0.0|\n",
            "|32.0|44.3|52.3|21.7|22.4|17.2| 4.15|3.57| 78.0|24.1|75.4|   0.0|\n",
            "|33.0|46.4|68.2|10.3|20.0| 5.7| 7.36| 4.3| 79.0|18.7|68.6|   0.0|\n",
            "|33.0|36.3|78.6|23.6|22.0| 7.0| 8.56|5.38| 78.0|19.4|68.7|   0.0|\n",
            "|33.0|39.0|51.7|15.9|24.0| 6.8| 6.46|3.38| 65.0| 7.0|70.4|   0.0|\n",
            "|33.0|38.7|39.8|22.5|23.0| 4.1| 4.63|4.97| 63.0|15.2|71.9|   0.0|\n",
            "|33.0|41.8|65.0|33.1|38.0| 6.6| 8.83|4.43| 71.0|24.0|72.7|   0.0|\n",
            "|33.0|40.9|73.0|17.2|22.9|10.0| 6.98|5.22| 90.0|14.7|72.4|   0.0|\n",
            "|33.0|45.2|88.3|32.4|31.2|10.1| 9.78|5.51|102.0|48.5|76.5|   0.0|\n",
            "|33.0|36.6|57.1|38.9|40.3|24.9| 9.62| 5.5|112.0|27.6|69.3|   0.0|\n",
            "|33.0|42.0|63.1|32.6|34.9|11.2| 7.01|4.05|105.0|19.1|68.1|   0.0|\n",
            "+----+----+----+----+----+----+-----+----+-----+----+----+------+\n",
            "only showing top 20 rows\n",
            "\n"
          ]
        }
      ],
      "source": [
        "# Converting To PySpark Dataframe\n",
        "new_df = spark.createDataFrame(df2)\n",
        "new_df.show()"
      ]
    },
    {
      "cell_type": "code",
      "execution_count": 40,
      "metadata": {
        "id": "g_2K5eAg0AMm",
        "colab": {
          "base_uri": "https://localhost:8080/"
        },
        "outputId": "4a9883ae-4e09-4f68-c48d-6c8ee75b52c4"
      },
      "outputs": [
        {
          "output_type": "stream",
          "name": "stdout",
          "text": [
            "root\n",
            " |-- Age: double (nullable = true)\n",
            " |-- ALB: double (nullable = true)\n",
            " |-- ALP: double (nullable = true)\n",
            " |-- ALT: double (nullable = true)\n",
            " |-- AST: double (nullable = true)\n",
            " |-- BIL: double (nullable = true)\n",
            " |-- CHE: double (nullable = true)\n",
            " |-- CHOL: double (nullable = true)\n",
            " |-- CREA: double (nullable = true)\n",
            " |-- GGT: double (nullable = true)\n",
            " |-- PROT: double (nullable = true)\n",
            " |-- Target: double (nullable = true)\n",
            "\n"
          ]
        }
      ],
      "source": [
        "# Check For DTYpes and Schema\n",
        "new_df.printSchema()"
      ]
    },
    {
      "cell_type": "code",
      "execution_count": 41,
      "metadata": {
        "id": "PonvMKDX0Ci6"
      },
      "outputs": [],
      "source": [
        "required_features = ['Age', 'ALB', 'ALP', 'ALT', 'AST', 'BIL', 'CHE', 'CHOL', 'CREA', 'GGT', 'PROT', 'Target']"
      ]
    },
    {
      "cell_type": "code",
      "execution_count": 42,
      "metadata": {
        "id": "ybre90BE0DzQ"
      },
      "outputs": [],
      "source": [
        "# VectorAsm\n",
        "vec_assembler = VectorAssembler(inputCols=required_features,outputCol='features')"
      ]
    },
    {
      "cell_type": "code",
      "execution_count": 43,
      "metadata": {
        "id": "naBI0zOH0FwU",
        "colab": {
          "base_uri": "https://localhost:8080/"
        },
        "outputId": "474975c6-e3f0-4b87-ef00-720628530522"
      },
      "outputs": [
        {
          "output_type": "stream",
          "name": "stdout",
          "text": [
            "+----+----+----+----+----+----+-----+----+-----+----+----+------+--------------------+\n",
            "| Age| ALB| ALP| ALT| AST| BIL|  CHE|CHOL| CREA| GGT|PROT|Target|            features|\n",
            "+----+----+----+----+----+----+-----+----+-----+----+----+------+--------------------+\n",
            "|32.0|38.5|52.5| 7.7|22.1| 7.5| 6.93|3.23|106.0|12.1|69.0|   0.0|[32.0,38.5,52.5,7...|\n",
            "|32.0|38.5|70.3|18.0|24.7| 3.9|11.17| 4.8| 74.0|15.6|76.5|   0.0|[32.0,38.5,70.3,1...|\n",
            "|32.0|46.9|74.7|36.2|52.6| 6.1| 8.84| 5.2| 86.0|33.2|79.3|   0.0|[32.0,46.9,74.7,3...|\n",
            "|32.0|43.2|52.0|30.6|22.6|18.9| 7.33|4.74| 80.0|33.8|75.7|   0.0|[32.0,43.2,52.0,3...|\n",
            "|32.0|39.2|74.1|32.6|24.8| 9.6| 9.15|4.32| 76.0|29.9|68.7|   0.0|[32.0,39.2,74.1,3...|\n",
            "+----+----+----+----+----+----+-----+----+-----+----+----+------+--------------------+\n",
            "only showing top 5 rows\n",
            "\n"
          ]
        }
      ],
      "source": [
        "vec_df = vec_assembler.transform(new_df)\n",
        "vec_df.show(5)"
      ]
    },
    {
      "cell_type": "markdown",
      "metadata": {
        "id": "YN_ztjCz0HHh"
      },
      "source": [
        "Split, Build, Train and Test our model"
      ]
    },
    {
      "cell_type": "code",
      "execution_count": 44,
      "metadata": {
        "id": "aTDytA6r0Mg4",
        "colab": {
          "base_uri": "https://localhost:8080/"
        },
        "outputId": "f2c96bd6-15e6-45fd-edd8-ddba6fe94ab1"
      },
      "outputs": [
        {
          "output_type": "execute_result",
          "data": {
            "text/plain": [
              "410"
            ]
          },
          "metadata": {},
          "execution_count": 44
        }
      ],
      "source": [
        "train_df,test_df = vec_df.randomSplit([0.7,0.3])\n",
        "train_df.count()"
      ]
    },
    {
      "cell_type": "code",
      "execution_count": 45,
      "metadata": {
        "id": "ECrF13wGhrvR",
        "colab": {
          "base_uri": "https://localhost:8080/"
        },
        "outputId": "cef35cfa-ccd0-48c4-f952-3c035a2d8f6a"
      },
      "outputs": [
        {
          "output_type": "stream",
          "name": "stdout",
          "text": [
            "+------+\n",
            "|Target|\n",
            "+------+\n",
            "|   0.0|\n",
            "|   1.0|\n",
            "|   4.0|\n",
            "|   3.0|\n",
            "|   2.0|\n",
            "+------+\n",
            "\n"
          ]
        }
      ],
      "source": [
        "train_df.select('Target').distinct().show()\n"
      ]
    },
    {
      "cell_type": "code",
      "execution_count": 46,
      "metadata": {
        "id": "dcywS5yHJm7D",
        "colab": {
          "base_uri": "https://localhost:8080/"
        },
        "outputId": "9737b3c3-9062-4a7e-de22-3df879930691"
      },
      "outputs": [
        {
          "output_type": "stream",
          "name": "stdout",
          "text": [
            "Best Model Parameters:\n",
            " - regParam: 0.01\n",
            " - elasticNetParam: 1.0\n",
            " - maxIter: 50\n"
          ]
        }
      ],
      "source": [
        "from pyspark.ml.classification import LogisticRegression\n",
        "from pyspark.ml.evaluation import MulticlassClassificationEvaluator\n",
        "from pyspark.ml.tuning import ParamGridBuilder, CrossValidator\n",
        "\n",
        "# Re-define the logistic regression model for multi-class classification\n",
        "lr = LogisticRegression(featuresCol='features', labelCol='Target', family='multinomial')\n",
        "\n",
        "# Createing a parameter grid for tuning\n",
        "paramGrid = (ParamGridBuilder()\n",
        "    .addGrid(lr.regParam, [0.01, 0.1, 0.5])  # Regularization parameter\n",
        "    .addGrid(lr.elasticNetParam, [0.0, 0.5, 1.0])  # Elastic net mixing parameter\n",
        "    .addGrid(lr.maxIter, [10, 50, 100])  # Maximum number of iterations\n",
        "    .build())\n",
        "\n",
        "# Define the evaluator for multi-class classification\n",
        "evaluator = MulticlassClassificationEvaluator(\n",
        "    labelCol='Target',\n",
        "    predictionCol='prediction',\n",
        "    metricName='accuracy'\n",
        ")\n",
        "\n",
        "# Setup cross-validation with 3 folds\n",
        "crossval = CrossValidator(estimator=lr,\n",
        "                          estimatorParamMaps=paramGrid,\n",
        "                          evaluator=evaluator,\n",
        "                          numFolds=3)  # Number of folds for cross-validation\n",
        "\n",
        "# Run cross-validation, and choose the best set of parameters.\n",
        "cvModel = crossval.fit(train_df)\n",
        "\n",
        "# Print out the best model's parameters\n",
        "bestModel = cvModel.bestModel\n",
        "print(\"Best Model Parameters:\")\n",
        "print(f\" - regParam: {bestModel._java_obj.getRegParam()}\")\n",
        "print(f\" - elasticNetParam: {bestModel._java_obj.getElasticNetParam()}\")\n",
        "print(f\" - maxIter: {bestModel._java_obj.getMaxIter()}\")\n"
      ]
    },
    {
      "cell_type": "code",
      "execution_count": 47,
      "metadata": {
        "id": "l0Xh82_sj1eK",
        "colab": {
          "base_uri": "https://localhost:8080/"
        },
        "outputId": "83337411-6e34-4e93-f1c5-29f95aa9fc34"
      },
      "outputs": [
        {
          "output_type": "stream",
          "name": "stdout",
          "text": [
            "Test set accuracy = 0.975609756097561\n",
            "Test set F1-Score = 0.9751420637666037\n"
          ]
        }
      ],
      "source": [
        "# Evaluating the model on the test set\n",
        "predictions = cvModel.transform(test_df)\n",
        "evaluator = MulticlassClassificationEvaluator(labelCol=\"Target\", predictionCol=\"prediction\", metricName=\"accuracy\")\n",
        "accuracy = evaluator.evaluate(predictions)\n",
        "print(\"Test set accuracy = \" + str(accuracy))\n",
        "print(\"Test set F1-Score = \" + str(evaluator.setMetricName(\"f1\").evaluate(predictions)))\n"
      ]
    },
    {
      "cell_type": "markdown",
      "metadata": {
        "id": "-yyTkFZ31MOV"
      },
      "source": []
    },
    {
      "cell_type": "markdown",
      "metadata": {
        "id": "ovGuthVskpv-"
      },
      "source": [
        "visualize the model's performance across different classes\n"
      ]
    },
    {
      "cell_type": "code",
      "execution_count": 48,
      "metadata": {
        "id": "-kOgu8JMkwyT",
        "colab": {
          "base_uri": "https://localhost:8080/",
          "height": 636
        },
        "outputId": "868221eb-313a-43b9-d700-15830fb92126"
      },
      "outputs": [
        {
          "output_type": "execute_result",
          "data": {
            "text/plain": [
              "Text(95.72222222222221, 0.5, 'Truth')"
            ]
          },
          "metadata": {},
          "execution_count": 48
        },
        {
          "output_type": "display_data",
          "data": {
            "text/plain": [
              "<Figure size 1000x700 with 2 Axes>"
            ],
            "image/png": "[encoded data removed]"
          },
          "metadata": {}
        }
      ],
      "source": [
        "from sklearn.metrics import confusion_matrix\n",
        "import seaborn as sns\n",
        "\n",
        "y_true = predictions.select(\"Target\").collect()\n",
        "y_pred = predictions.select(\"prediction\").collect()\n",
        "cm = confusion_matrix(y_true, y_pred)\n",
        "\n",
        "plt.figure(figsize=(10,7))\n",
        "sns.heatmap(cm, annot=True, fmt='d')\n",
        "plt.xlabel('Predicted')\n",
        "plt.ylabel('Truth')\n"
      ]
    },
    {
      "cell_type": "code",
      "execution_count": 49,
      "metadata": {
        "id": "EzRceJFakzNY"
      },
      "outputs": [],
      "source": [
        "cvModel.bestModel.save(\"myModelPath\")\n"
      ]
    },
    {
      "cell_type": "code",
      "execution_count": 50,
      "metadata": {
        "id": "XF4YnNdV0UqR"
      },
      "outputs": [],
      "source": [
        "from pyspark.ml.classification import LogisticRegression,DecisionTreeClassifier\n",
        "\n",
        "# Our logistic Model\n",
        "lr = LogisticRegression(featuresCol='features',labelCol='Target')"
      ]
    },
    {
      "cell_type": "code",
      "execution_count": 51,
      "metadata": {
        "id": "wziviNFs0a32",
        "colab": {
          "base_uri": "https://localhost:8080/"
        },
        "outputId": "c98fd5ba-a542-4f61-aa81-7251208bf51a"
      },
      "outputs": [
        {
          "output_type": "stream",
          "name": "stdout",
          "text": [
            "+----+----+-----+----+----+----+-----+----+-----+----+----+------+--------------------+--------------------+--------------------+----------+\n",
            "| Age| ALB|  ALP| ALT| AST| BIL|  CHE|CHOL| CREA| GGT|PROT|Target|            features|       rawPrediction|         probability|prediction|\n",
            "+----+----+-----+----+----+----+-----+----+-----+----+----+------+--------------------+--------------------+--------------------+----------+\n",
            "|32.0|38.5| 70.3|18.0|24.7| 3.9|11.17| 4.8| 74.0|15.6|76.5|   0.0|[32.0,38.5,70.3,1...|[102.007616900173...|[1.0,5.6457715031...|       0.0|\n",
            "|32.0|41.6| 43.3|18.5|19.7|12.3| 9.92|6.05|111.0|91.0|74.0|   0.0|[32.0,41.6,43.3,1...|[76.0763425413011...|[0.99999999862010...|       0.0|\n",
            "|32.0|44.3| 52.3|21.7|22.4|17.2| 4.15|3.57| 78.0|24.1|75.4|   0.0|[32.0,44.3,52.3,2...|[87.2694998887957...|[1.0,1.5264578241...|       0.0|\n",
            "|33.0|36.3| 78.6|23.6|22.0| 7.0| 8.56|5.38| 78.0|19.4|68.7|   0.0|[33.0,36.3,78.6,2...|[100.905406028492...|[1.0,2.2688340067...|       0.0|\n",
            "|33.0|39.0| 51.7|15.9|24.0| 6.8| 6.46|3.38| 65.0| 7.0|70.4|   0.0|[33.0,39.0,51.7,1...|[94.4617760856992...|[1.0,1.1528653729...|       0.0|\n",
            "|33.0|44.3| 49.8|32.1|21.6|13.1| 7.44|5.59|103.0|30.2|74.0|   0.0|[33.0,44.3,49.8,3...|[89.1808150384426...|[1.0,6.5061643638...|       0.0|\n",
            "|33.0|46.7| 88.3|23.4|23.9| 7.8| 9.42|4.62| 78.0|29.5|74.3|   0.0|[33.0,46.7,88.3,2...|[108.881879842755...|[1.0,3.2810763383...|       0.0|\n",
            "|34.0|43.4| 46.1|97.8|46.2|11.3| 7.99|3.62| 71.0|35.3|69.6|   0.0|[34.0,43.4,46.1,9...|[77.2325656214585...|[1.0,3.9790366938...|       0.0|\n",
            "|34.0|43.6| 58.9|47.1|31.1|18.5| 9.14|4.99| 95.0|22.2|69.3|   0.0|[34.0,43.6,58.9,4...|[86.9202021051513...|[1.0,2.2966246985...|       0.0|\n",
            "|34.0|46.8| 61.7|24.5|24.2|23.1|10.99| 4.6| 83.0|23.8|73.1|   0.0|[34.0,46.8,61.7,2...|[88.9450041908590...|[1.0,1.0889687489...|       0.0|\n",
            "|35.0|27.8| 99.0|30.7|27.8| 9.4|  6.8|4.27| 65.0|40.5|80.7|   0.0|[35.0,27.8,99.0,3...|[89.6940009140201...|[1.0,1.8710262235...|       0.0|\n",
            "|35.0|44.7| 79.3|53.5|30.8| 9.7|11.39|7.04| 88.0|77.3|77.1|   0.0|[35.0,44.7,79.3,5...|[94.8065268479732...|[1.0,1.3698949994...|       0.0|\n",
            "|35.0|47.3| 92.2|30.7|25.7| 6.6|11.58| 5.9| 82.0|36.9|77.8|   0.0|[35.0,47.3,92.2,3...|[111.376250270965...|[1.0,1.0414143017...|       0.0|\n",
            "|35.0|48.7| 72.7|24.1|31.0|45.1|  9.4| 3.8| 90.0|20.0|75.8|   0.0|[35.0,48.7,72.7,2...|[77.2856699109496...|[1.0,5.1479631565...|       0.0|\n",
            "|36.0|42.4| 47.3|23.0|25.5| 6.1| 9.46|5.29| 79.0|17.5|73.8|   0.0|[36.0,42.4,47.3,2...|[96.6251082599441...|[1.0,1.5852347439...|       0.0|\n",
            "|36.0|42.6| 65.3|35.8|27.1|15.7|10.66|4.38| 96.0|34.7|71.0|   0.0|[36.0,42.6,65.3,3...|[85.8581621788564...|[1.0,3.0757621068...|       0.0|\n",
            "|36.0|46.1| 58.5|26.8|25.3| 6.0| 6.61|5.07| 71.0|10.5|79.6|   0.0|[36.0,46.1,58.5,2...|[104.676457812971...|[1.0,1.1767210643...|       0.0|\n",
            "|36.0|47.8| 89.0|48.5|38.4| 8.6| 8.26|5.62| 96.0|21.9|76.2|   0.0|[36.0,47.8,89.0,4...|[110.346468641952...|[1.0,1.6971353606...|       0.0|\n",
            "|37.0|40.8|118.9|17.2|19.2| 3.2| 9.17|4.26| 88.0|13.5|72.0|   0.0|[37.0,40.8,118.9,...|[116.903982073318...|[1.0,1.4075173510...|       0.0|\n",
            "|37.0|44.0| 57.4|26.1|24.6| 9.7|10.41|6.17| 83.0|38.9|76.5|   0.0|[37.0,44.0,57.4,2...|[95.6279416320674...|[1.0,1.9089052972...|       0.0|\n",
            "+----+----+-----+----+----+----+-----+----+-----+----+----+------+--------------------+--------------------+--------------------+----------+\n",
            "only showing top 20 rows\n",
            "\n"
          ]
        }
      ],
      "source": [
        "lr_model = lr.fit(train_df)\n",
        "y_pred = lr_model.transform(test_df)\n",
        "y_pred.show()"
      ]
    },
    {
      "cell_type": "code",
      "execution_count": 52,
      "metadata": {
        "id": "pKESXtZ40dTp",
        "colab": {
          "base_uri": "https://localhost:8080/"
        },
        "outputId": "320921c6-0d7e-4267-f878-251df6339295"
      },
      "outputs": [
        {
          "output_type": "stream",
          "name": "stdout",
          "text": [
            "['Age', 'ALB', 'ALP', 'ALT', 'AST', 'BIL', 'CHE', 'CHOL', 'CREA', 'GGT', 'PROT', 'Target', 'features', 'rawPrediction', 'probability', 'prediction']\n"
          ]
        }
      ],
      "source": [
        "print(y_pred.columns)"
      ]
    },
    {
      "cell_type": "code",
      "execution_count": 53,
      "metadata": {
        "id": "VGgHkIGX0dmX",
        "colab": {
          "base_uri": "https://localhost:8080/"
        },
        "outputId": "d846ed2c-d5a5-4859-b7cd-acf2493f0dcc"
      },
      "outputs": [
        {
          "output_type": "stream",
          "name": "stdout",
          "text": [
            "+------+--------------------+--------------------+----------+\n",
            "|target|       rawPrediction|         probability|prediction|\n",
            "+------+--------------------+--------------------+----------+\n",
            "|   0.0|[102.007616900173...|[1.0,5.6457715031...|       0.0|\n",
            "|   0.0|[76.0763425413011...|[0.99999999862010...|       0.0|\n",
            "|   0.0|[87.2694998887957...|[1.0,1.5264578241...|       0.0|\n",
            "|   0.0|[100.905406028492...|[1.0,2.2688340067...|       0.0|\n",
            "|   0.0|[94.4617760856992...|[1.0,1.1528653729...|       0.0|\n",
            "|   0.0|[89.1808150384426...|[1.0,6.5061643638...|       0.0|\n",
            "|   0.0|[108.881879842755...|[1.0,3.2810763383...|       0.0|\n",
            "|   0.0|[77.2325656214585...|[1.0,3.9790366938...|       0.0|\n",
            "|   0.0|[86.9202021051513...|[1.0,2.2966246985...|       0.0|\n",
            "|   0.0|[88.9450041908590...|[1.0,1.0889687489...|       0.0|\n",
            "|   0.0|[89.6940009140201...|[1.0,1.8710262235...|       0.0|\n",
            "|   0.0|[94.8065268479732...|[1.0,1.3698949994...|       0.0|\n",
            "|   0.0|[111.376250270965...|[1.0,1.0414143017...|       0.0|\n",
            "|   0.0|[77.2856699109496...|[1.0,5.1479631565...|       0.0|\n",
            "|   0.0|[96.6251082599441...|[1.0,1.5852347439...|       0.0|\n",
            "|   0.0|[85.8581621788564...|[1.0,3.0757621068...|       0.0|\n",
            "|   0.0|[104.676457812971...|[1.0,1.1767210643...|       0.0|\n",
            "|   0.0|[110.346468641952...|[1.0,1.6971353606...|       0.0|\n",
            "|   0.0|[116.903982073318...|[1.0,1.4075173510...|       0.0|\n",
            "|   0.0|[95.6279416320674...|[1.0,1.9089052972...|       0.0|\n",
            "+------+--------------------+--------------------+----------+\n",
            "only showing top 20 rows\n",
            "\n"
          ]
        }
      ],
      "source": [
        "y_pred.select('target','rawPrediction', 'probability', 'prediction').show()"
      ]
    },
    {
      "cell_type": "markdown",
      "metadata": {
        "id": "zf1XTpQF0fWl"
      },
      "source": [
        "Now we Evaluate our model"
      ]
    },
    {
      "cell_type": "code",
      "execution_count": 54,
      "metadata": {
        "id": "7uVq6E3N0iim"
      },
      "outputs": [],
      "source": [
        "from pyspark.ml.evaluation import MulticlassClassificationEvaluator\n",
        "\n",
        "# Checking For Accuracy\n",
        "multi_evaluator = MulticlassClassificationEvaluator(labelCol='Target',metricName='accuracy')"
      ]
    },
    {
      "cell_type": "code",
      "execution_count": 55,
      "metadata": {
        "id": "o_L2mawV0oe1",
        "colab": {
          "base_uri": "https://localhost:8080/"
        },
        "outputId": "fc747f3f-b96a-4122-cfe9-39f5f5ef74e3"
      },
      "outputs": [
        {
          "output_type": "execute_result",
          "data": {
            "text/plain": [
              "0.9512195121951219"
            ]
          },
          "metadata": {},
          "execution_count": 55
        }
      ],
      "source": [
        "multi_evaluator.evaluate(y_pred)"
      ]
    },
    {
      "cell_type": "code",
      "execution_count": 56,
      "metadata": {
        "id": "fpkYvD2V2LZz",
        "colab": {
          "base_uri": "https://localhost:8080/"
        },
        "outputId": "10b9e968-45d9-42c3-8824-54ad7dccd554"
      },
      "outputs": [
        {
          "output_type": "stream",
          "name": "stdout",
          "text": [
            "Model has great accuracy! Almost 95%!\n"
          ]
        }
      ],
      "source": [
        "print(\"Model has great accuracy! Almost 95%!\")"
      ]
    },
    {
      "cell_type": "code",
      "execution_count": 57,
      "metadata": {
        "id": "QJ4eOJEa0q-H",
        "colab": {
          "base_uri": "https://localhost:8080/"
        },
        "outputId": "552418bb-c1aa-4d1e-970e-72a30c5a7ebf"
      },
      "outputs": [
        {
          "output_type": "stream",
          "name": "stderr",
          "text": [
            "/usr/local/lib/python3.10/dist-packages/pyspark/sql/context.py:158: FutureWarning: Deprecated in 3.0.0. Use SparkSession.builder.getOrCreate() instead.\n",
            "  warnings.warn(\n"
          ]
        },
        {
          "output_type": "execute_result",
          "data": {
            "text/plain": [
              "['__class__',\n",
              " '__del__',\n",
              " '__delattr__',\n",
              " '__dict__',\n",
              " '__dir__',\n",
              " '__doc__',\n",
              " '__eq__',\n",
              " '__format__',\n",
              " '__ge__',\n",
              " '__getattribute__',\n",
              " '__gt__',\n",
              " '__hash__',\n",
              " '__init__',\n",
              " '__init_subclass__',\n",
              " '__le__',\n",
              " '__lt__',\n",
              " '__module__',\n",
              " '__ne__',\n",
              " '__new__',\n",
              " '__reduce__',\n",
              " '__reduce_ex__',\n",
              " '__repr__',\n",
              " '__setattr__',\n",
              " '__sizeof__',\n",
              " '__str__',\n",
              " '__subclasshook__',\n",
              " '__weakref__',\n",
              " '_java_model',\n",
              " '_sc',\n",
              " 'accuracy',\n",
              " 'call',\n",
              " 'confusionMatrix',\n",
              " 'fMeasure',\n",
              " 'falsePositiveRate',\n",
              " 'logLoss',\n",
              " 'precision',\n",
              " 'recall',\n",
              " 'truePositiveRate',\n",
              " 'weightedFMeasure',\n",
              " 'weightedFalsePositiveRate',\n",
              " 'weightedPrecision',\n",
              " 'weightedRecall',\n",
              " 'weightedTruePositiveRate']"
            ]
          },
          "metadata": {},
          "execution_count": 57
        }
      ],
      "source": [
        "from pyspark.mllib.evaluation import MulticlassMetrics\n",
        "\n",
        "lr_metric = MulticlassMetrics(y_pred['target', 'prediction'].rdd)\n",
        "dir(lr_metric)"
      ]
    },
    {
      "cell_type": "code",
      "execution_count": 58,
      "metadata": {
        "id": "LGobEwgJ0vSY",
        "colab": {
          "base_uri": "https://localhost:8080/"
        },
        "outputId": "e05f781d-52fd-46ce-fc88-426d7114bb7d"
      },
      "outputs": [
        {
          "output_type": "stream",
          "name": "stdout",
          "text": [
            "Accuracy 0.9512195121951219\n"
          ]
        }
      ],
      "source": [
        "print(\"Accuracy\",lr_metric.accuracy)"
      ]
    },
    {
      "cell_type": "code",
      "execution_count": 59,
      "metadata": {
        "id": "G5VsPBGi0wss",
        "colab": {
          "base_uri": "https://localhost:8080/"
        },
        "outputId": "db473366-8cc6-455a-b116-5bbd53472bdc"
      },
      "outputs": [
        {
          "output_type": "stream",
          "name": "stdout",
          "text": [
            "Precision 0.8888888888888888\n",
            "Recall 0.7272727272727273\n",
            "F1Score 0.7999999999999999\n"
          ]
        }
      ],
      "source": [
        "print(\"Precision\",lr_metric.precision(1.0))\n",
        "print(\"Recall\",lr_metric.recall(1.0))\n",
        "print(\"F1Score\",lr_metric.fMeasure(1.0))"
      ]
    },
    {
      "cell_type": "code",
      "execution_count": 60,
      "metadata": {
        "id": "fjwxDy5S0yJT",
        "colab": {
          "base_uri": "https://localhost:8080/"
        },
        "outputId": "c040fa72-8fae-4e81-bfb6-eafaea73b152"
      },
      "outputs": [
        {
          "output_type": "execute_result",
          "data": {
            "text/plain": [
              "['__abstractmethods__',\n",
              " '__annotations__',\n",
              " '__class__',\n",
              " '__class_getitem__',\n",
              " '__del__',\n",
              " '__delattr__',\n",
              " '__dict__',\n",
              " '__dir__',\n",
              " '__doc__',\n",
              " '__eq__',\n",
              " '__format__',\n",
              " '__ge__',\n",
              " '__getattribute__',\n",
              " '__gt__',\n",
              " '__hash__',\n",
              " '__init__',\n",
              " '__init_subclass__',\n",
              " '__le__',\n",
              " '__lt__',\n",
              " '__module__',\n",
              " '__ne__',\n",
              " '__new__',\n",
              " '__orig_bases__',\n",
              " '__parameters__',\n",
              " '__reduce__',\n",
              " '__reduce_ex__',\n",
              " '__repr__',\n",
              " '__setattr__',\n",
              " '__sizeof__',\n",
              " '__slotnames__',\n",
              " '__slots__',\n",
              " '__str__',\n",
              " '__subclasshook__',\n",
              " '__weakref__',\n",
              " '_abc_impl',\n",
              " '_call_java',\n",
              " '_checkThresholdConsistency',\n",
              " '_copyValues',\n",
              " '_copy_params',\n",
              " '_create_from_java_class',\n",
              " '_create_params_from_java',\n",
              " '_defaultParamMap',\n",
              " '_dummy',\n",
              " '_empty_java_param_map',\n",
              " '_from_java',\n",
              " '_is_protocol',\n",
              " '_java_obj',\n",
              " '_make_java_param_pair',\n",
              " '_new_java_array',\n",
              " '_new_java_obj',\n",
              " '_paramMap',\n",
              " '_params',\n",
              " '_randomUID',\n",
              " '_resetUid',\n",
              " '_resolveParam',\n",
              " '_set',\n",
              " '_setDefault',\n",
              " '_shouldOwn',\n",
              " '_testOwnParam',\n",
              " '_to_java',\n",
              " '_transfer_param_map_from_java',\n",
              " '_transfer_param_map_to_java',\n",
              " '_transfer_params_from_java',\n",
              " '_transfer_params_to_java',\n",
              " '_transform',\n",
              " 'aggregationDepth',\n",
              " 'clear',\n",
              " 'coefficientMatrix',\n",
              " 'coefficients',\n",
              " 'copy',\n",
              " 'elasticNetParam',\n",
              " 'evaluate',\n",
              " 'explainParam',\n",
              " 'explainParams',\n",
              " 'extractParamMap',\n",
              " 'family',\n",
              " 'featuresCol',\n",
              " 'fitIntercept',\n",
              " 'getAggregationDepth',\n",
              " 'getElasticNetParam',\n",
              " 'getFamily',\n",
              " 'getFeaturesCol',\n",
              " 'getFitIntercept',\n",
              " 'getLabelCol',\n",
              " 'getLowerBoundsOnCoefficients',\n",
              " 'getLowerBoundsOnIntercepts',\n",
              " 'getMaxBlockSizeInMB',\n",
              " 'getMaxIter',\n",
              " 'getOrDefault',\n",
              " 'getParam',\n",
              " 'getPredictionCol',\n",
              " 'getProbabilityCol',\n",
              " 'getRawPredictionCol',\n",
              " 'getRegParam',\n",
              " 'getStandardization',\n",
              " 'getThreshold',\n",
              " 'getThresholds',\n",
              " 'getTol',\n",
              " 'getUpperBoundsOnCoefficients',\n",
              " 'getUpperBoundsOnIntercepts',\n",
              " 'getWeightCol',\n",
              " 'hasDefault',\n",
              " 'hasParam',\n",
              " 'hasSummary',\n",
              " 'intercept',\n",
              " 'interceptVector',\n",
              " 'isDefined',\n",
              " 'isSet',\n",
              " 'labelCol',\n",
              " 'load',\n",
              " 'lowerBoundsOnCoefficients',\n",
              " 'lowerBoundsOnIntercepts',\n",
              " 'maxBlockSizeInMB',\n",
              " 'maxIter',\n",
              " 'numClasses',\n",
              " 'numFeatures',\n",
              " 'params',\n",
              " 'predict',\n",
              " 'predictProbability',\n",
              " 'predictRaw',\n",
              " 'predictionCol',\n",
              " 'probabilityCol',\n",
              " 'rawPredictionCol',\n",
              " 'read',\n",
              " 'regParam',\n",
              " 'save',\n",
              " 'set',\n",
              " 'setFeaturesCol',\n",
              " 'setPredictionCol',\n",
              " 'setProbabilityCol',\n",
              " 'setRawPredictionCol',\n",
              " 'setThreshold',\n",
              " 'setThresholds',\n",
              " 'standardization',\n",
              " 'summary',\n",
              " 'threshold',\n",
              " 'thresholds',\n",
              " 'tol',\n",
              " 'transform',\n",
              " 'uid',\n",
              " 'upperBoundsOnCoefficients',\n",
              " 'upperBoundsOnIntercepts',\n",
              " 'weightCol',\n",
              " 'write']"
            ]
          },
          "metadata": {},
          "execution_count": 60
        }
      ],
      "source": [
        "dir(lr_model)"
      ]
    },
    {
      "cell_type": "code",
      "execution_count": 61,
      "metadata": {
        "id": "W8yUD3Yx02lx"
      },
      "outputs": [],
      "source": [
        "# Saving Model\n",
        "lr_model.save(\"lr_model_30\")\n",
        "\n",
        "lr_model.write().save(\"bigdata_project_lr_model\")"
      ]
    },
    {
      "cell_type": "code",
      "execution_count": 62,
      "metadata": {
        "id": "Rbh8UoB662JE"
      },
      "outputs": [],
      "source": [
        "from pyspark.ml.classification import DecisionTreeClassifier"
      ]
    },
    {
      "cell_type": "code",
      "execution_count": 63,
      "metadata": {
        "id": "UrYFtspx67Eo"
      },
      "outputs": [],
      "source": [
        "dt = DecisionTreeClassifier(featuresCol='features', labelCol='Target')\n",
        "paramGrid_dt = (ParamGridBuilder()\n",
        "    .addGrid(dt.maxDepth, [5, 10, 20])\n",
        "    .addGrid(dt.minInstancesPerNode, [1, 5, 10])\n",
        "    .build())"
      ]
    },
    {
      "cell_type": "code",
      "execution_count": 64,
      "metadata": {
        "id": "HXu6M5QY7E2R",
        "colab": {
          "base_uri": "https://localhost:8080/"
        },
        "outputId": "3504b59b-02f5-470b-ddba-79e04d2cf752"
      },
      "outputs": [
        {
          "output_type": "stream",
          "name": "stdout",
          "text": [
            "Decision Tree Test set accuracy = 0.9947502903600465\n",
            "Decision Tree Test set F1-Score = 0.9947502903600465\n"
          ]
        }
      ],
      "source": [
        "crossval_dt = CrossValidator(estimator=dt, estimatorParamMaps=paramGrid_dt, evaluator=evaluator, numFolds=3)\n",
        "cvModel_dt = crossval_dt.fit(train_df)\n",
        "\n",
        "# Decision Tree Model Evaluation\n",
        "predictions_dt = cvModel_dt.transform(test_df)\n",
        "accuracy_dt = evaluator.evaluate(predictions_dt)\n",
        "print(\"Decision Tree Test set accuracy = \" + str(accuracy_dt))\n",
        "print(\"Decision Tree Test set F1-Score = \" + str(evaluator.setMetricName(\"f1\").evaluate(predictions_dt)))"
      ]
    },
    {
      "cell_type": "code",
      "execution_count": 65,
      "metadata": {
        "id": "rOcvEu2i7Ie2"
      },
      "outputs": [],
      "source": [
        "cvModel_dt.bestModel.save(\"myDecisionTreeModelPath\")"
      ]
    },
    {
      "cell_type": "code",
      "execution_count": 66,
      "metadata": {
        "id": "HUKRIKGW7LOQ"
      },
      "outputs": [],
      "source": [
        "from pyspark.ml.classification import RandomForestClassifier\n",
        "\n",
        "rf = RandomForestClassifier(featuresCol='features', labelCol='Target')\n",
        "paramGrid_rf = (ParamGridBuilder()\n",
        "    .addGrid(rf.numTrees, [10, 50, 100])\n",
        "    .addGrid(rf.maxDepth, [5, 10, 20])\n",
        "    .build())"
      ]
    },
    {
      "cell_type": "code",
      "execution_count": 67,
      "metadata": {
        "id": "3SYeouCR7M-y"
      },
      "outputs": [],
      "source": [
        "crossval_rf = CrossValidator(estimator=rf, estimatorParamMaps=paramGrid_rf, evaluator=evaluator, numFolds=3)\n",
        "cvModel_rf = crossval_rf.fit(train_df)"
      ]
    },
    {
      "cell_type": "code",
      "execution_count": 68,
      "metadata": {
        "id": "2Z7DycXf7O7M",
        "colab": {
          "base_uri": "https://localhost:8080/"
        },
        "outputId": "e18a8f92-4776-4ce4-a953-b507a5d64d72"
      },
      "outputs": [
        {
          "metadata": {
            "tags": null
          },
          "name": "stdout",
          "output_type": "stream",
          "text": [
            "Random Forest Test set accuracy = 0.9882483370288249\n",
            "Random Forest Test set F1-Score = 0.9882483370288249\n"
          ]
        }
      ],
      "source": [
        "predictions_rf = cvModel_rf.transform(test_df)\n",
        "accuracy_rf = evaluator.evaluate(predictions_rf)\n",
        "print(\"Random Forest Test set accuracy = \" + str(accuracy_rf))\n",
        "print(\"Random Forest Test set F1-Score = \" + str(evaluator.setMetricName(\"f1\").evaluate(predictions_rf)))\n",
        "\n",
        "# Save the best Random Forest model\n",
        "cvModel_rf.bestModel.save(\"myRandomForestModelPath\")"
      ]
    }
  ],
  "metadata": {
    "accelerator": "GPU",
    "colab": {
      "gpuType": "T4",
      "provenance": []
    },
    "kernelspec": {
      "display_name": "Python 3",
      "name": "python3"
    },
    "language_info": {
      "name": "python"
    }
  },
  "nbformat": 4,
  "nbformat_minor": 0
}